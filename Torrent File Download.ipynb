{
  "nbformat": 4,
  "nbformat_minor": 0,
  "metadata": {
    "colab": {
      "provenance": [],
      "authorship_tag": "ABX9TyNfvRZjd8ZcSWbDHQcvO9XL",
      "include_colab_link": true
    },
    "kernelspec": {
      "name": "python3",
      "display_name": "Python 3"
    },
    "language_info": {
      "name": "python"
    }
  },
  "cells": [
    {
      "cell_type": "markdown",
      "metadata": {
        "id": "view-in-github",
        "colab_type": "text"
      },
      "source": [
        "<a href=\"https://colab.research.google.com/github/iamvaibhavahire/File-Downloader/blob/main/Torrent%20File%20Download.ipynb\" target=\"_parent\"><img src=\"https://colab.research.google.com/assets/colab-badge.svg\" alt=\"Open In Colab\"/></a>"
      ]
    },
    {
      "cell_type": "markdown",
      "source": [
        "# **Mount Google Drive**\n",
        "To stream files we need to mount Google Drive."
      ],
      "metadata": {
        "id": "QkQm_WFKRjS-"
      }
    },
    {
      "cell_type": "code",
      "source": [
        "from google.colab import drive\n",
        "drive.mount('/content/drive')"
      ],
      "metadata": {
        "id": "cywKMhTkT3Hi"
      },
      "execution_count": null,
      "outputs": []
    },
    {
      "cell_type": "markdown",
      "source": [
        "# **Dependency**\n",
        "https://www.libtorrent.org/"
      ],
      "metadata": {
        "id": "SHwwNbUbRzY0"
      }
    },
    {
      "cell_type": "code",
      "source": [
        "!python -m pip install --upgrade pip setuptools wheel && python -m pip install lbry-libtorrent && apt install python3-libtorrent"
      ],
      "metadata": {
        "id": "NHTH__RsR2W4"
      },
      "execution_count": null,
      "outputs": []
    },
    {
      "cell_type": "markdown",
      "source": [
        "# **Code to download torrent** v1"
      ],
      "metadata": {
        "id": "h8qoYzuqSBrD"
      }
    },
    {
      "cell_type": "code",
      "source": [
        "\n",
        "import libtorrent as lt\n",
        "import time\n",
        "import datetime\n",
        "\n",
        "def download_torrent(link, save_path):\n",
        "    ses = lt.session()\n",
        "    ses.listen_on(6881, 6891)\n",
        "\n",
        "    params = {\n",
        "        'save_path': save_path,\n",
        "        'storage_mode': lt.storage_mode_t(2),\n",
        "    }\n",
        "\n",
        "    handle = lt.add_magnet_uri(ses, link, params)\n",
        "    handle.set_sequential_download(0)\n",
        "\n",
        "    ses.start_dht()\n",
        "    begin = time.time()\n",
        "    print(datetime.datetime.now())\n",
        "\n",
        "    print('Downloading Metadata...')\n",
        "    while not handle.has_metadata():\n",
        "        time.sleep(1)\n",
        "    print('Got Metadata, Starting Torrent Download...')\n",
        "\n",
        "    print(\"Starting\", handle.name())\n",
        "\n",
        "    while handle.status().state != lt.torrent_status.seeding:\n",
        "        s = handle.status()\n",
        "        state_str = ['queued', 'checking', 'downloading metadata',\n",
        "                     'downloading', 'finished', 'seeding', 'allocating']\n",
        "        print('%.2f%% complete (down: %.1f kb/s up: %.1f kB/s peers: %d) %s ' % \\\n",
        "              (s.progress * 100, s.download_rate / 1000, s.upload_rate / 1000, \\\n",
        "               s.num_peers, state_str[s.state]))\n",
        "        time.sleep(1)\n",
        "\n",
        "    end = time.time()\n",
        "    print(handle.name(), \"COMPLETE\")\n",
        "\n",
        "    print(\"Elapsed Time: \", int((end - begin) // 60), \"min :\", int((end - begin) % 60), \"sec\")\n",
        "\n",
        "    print(datetime.datetime.now())\n",
        "\n",
        "\n",
        "link = input(\"Input Torrent Link or Magnet and Press Enter: \")\n",
        "save_path = '/content/drive/MyDrive/Torrent/'\n",
        "download_torrent(link, save_path)\n",
        "\n",
        "print('\\nALL DONE!')"
      ],
      "metadata": {
        "id": "hPtdjqR2SFoo"
      },
      "execution_count": null,
      "outputs": []
    },
    {
      "cell_type": "markdown",
      "source": [
        "# **Download in Zip Format v2**"
      ],
      "metadata": {
        "id": "AvhEzV7LYcKP"
      }
    },
    {
      "cell_type": "code",
      "source": [
        "\n",
        "import libtorrent as lt\n",
        "import time\n",
        "import datetime\n",
        "import shutil\n",
        "\n",
        "def download_torrent(link, save_path):\n",
        "    ses = lt.session()\n",
        "    ses.listen_on(6881, 6891)\n",
        "\n",
        "    params = {\n",
        "        'save_path': save_path,\n",
        "        'storage_mode': lt.storage_mode_t(2),\n",
        "    }\n",
        "\n",
        "    handle = lt.add_magnet_uri(ses, link, params)\n",
        "    handle.set_sequential_download(0)\n",
        "\n",
        "    ses.start_dht()\n",
        "    begin = time.time()\n",
        "    print(datetime.datetime.now())\n",
        "\n",
        "    print('Downloading Metadata...')\n",
        "    while not handle.has_metadata():\n",
        "        time.sleep(1)\n",
        "    print('Got Metadata, Starting Torrent Download...')\n",
        "\n",
        "    print(\"Starting\", handle.name())\n",
        "\n",
        "    while handle.status().state != lt.torrent_status.seeding:\n",
        "        s = handle.status()\n",
        "        state_str = ['queued', 'checking', 'downloading metadata',\n",
        "                     'downloading', 'finished', 'seeding', 'allocating']\n",
        "        print('%.2f%% complete (down: %.1f kb/s up: %.1f kB/s peers: %d) %s ' % \\\n",
        "              (s.progress * 100, s.download_rate / 1000, s.upload_rate / 1000, \\\n",
        "               s.num_peers, state_str[s.state]))\n",
        "        time.sleep(1)\n",
        "\n",
        "    end = time.time()\n",
        "    print(handle.name(), \"COMPLETE\")\n",
        "\n",
        "    print(\"Elapsed Time: \", int((end - begin) // 60), \"min :\", int((end - begin) % 60), \"sec\")\n",
        "\n",
        "    print(datetime.datetime.now())\n",
        "\n",
        "\n",
        "zipp = input(\"Input 'Y'/'y' to zip the torrent and place it in your drive. Otherwise, leave blank: \")\n",
        "\n",
        "if zipp.lower() == 'y':\n",
        "    zip_name = input(\"Input name you would like for the zip file: \")\n",
        "    params = {\n",
        "        'save_path': '/content/temp/',\n",
        "        'storage_mode': lt.storage_mode_t(2),\n",
        "    }\n",
        "    link = input(\"Input Torrent Link or Magnet and Press Enter: \")\n",
        "    download_torrent(link, params['save_path'])\n",
        "\n",
        "    print(\"Zipping ...\")\n",
        "    final_zip_directory = '/content/drive/MyDrive/Torrent/' + zip_name\n",
        "    shutil.make_archive(final_zip_directory, 'zip', '/content/temp/')\n",
        "    shutil.rmtree('/content/temp/')\n",
        "\n",
        "else:\n",
        "    params = {\n",
        "        'save_path': '/content/drive/MyDrive/Torrent/',\n",
        "        'storage_mode': lt.storage_mode_t(2),\n",
        "    }\n",
        "    link = input(\"Input Torrent Link or Magnet and Press Enter: \")\n",
        "    download_torrent(link, params['save_path'])\n",
        "\n",
        "print('\\nALL DONE!')"
      ],
      "metadata": {
        "id": "AtsvYDmiYqaH"
      },
      "execution_count": null,
      "outputs": []
    },
    {
      "cell_type": "markdown",
      "source": [
        "# **Download v3**"
      ],
      "metadata": {
        "id": "5Au4R3WQaNRs"
      }
    },
    {
      "cell_type": "code",
      "source": [
        "\n",
        "import libtorrent as lt\n",
        "import time\n",
        "import datetime\n",
        "\n",
        "def download_torrent(link, save_path):\n",
        "    ses = lt.session()\n",
        "    ses.listen_on(6881, 6891)\n",
        "\n",
        "    params = {\n",
        "        'save_path': save_path,\n",
        "        'storage_mode': lt.storage_mode_t(2),\n",
        "    }\n",
        "\n",
        "    handle = lt.add_magnet_uri(ses, link, params)\n",
        "    handle.set_sequential_download(0)\n",
        "\n",
        "    ses.start_dht()\n",
        "    begin = time.time()\n",
        "    print(datetime.datetime.now())\n",
        "\n",
        "    print('Downloading Metadata...')\n",
        "    while not handle.has_metadata():\n",
        "        time.sleep(1)\n",
        "    print('Got Metadata, Starting Torrent Download...')\n",
        "\n",
        "    print(\"Starting\", handle.name())\n",
        "\n",
        "    while handle.status().state != lt.torrent_status.seeding:\n",
        "        s = handle.status()\n",
        "        progress = s.progress * 100\n",
        "        print('Progress: [{:<50}] {:.2f}%'.format('=' * int(progress / 2), progress), end='\\r')\n",
        "        time.sleep(1)\n",
        "\n",
        "    end = time.time()\n",
        "    print('\\n' + handle.name(), \"COMPLETE\")\n",
        "\n",
        "    print(\"Elapsed Time: \", int((end - begin) // 60), \"min :\", int((end - begin) % 60), \"sec\")\n",
        "\n",
        "    print(datetime.datetime.now())\n",
        "\n",
        "\n",
        "link = input(\"Input Torrent Link or Magnet and Press Enter: \")\n",
        "save_path = '/content/drive/MyDrive/Torrent/'\n",
        "download_torrent(link, save_path)\n",
        "\n",
        "print('\\nALL DONE!')"
      ],
      "metadata": {
        "id": "i0NYHlqMZGOy"
      },
      "execution_count": null,
      "outputs": []
    }
  ]
}