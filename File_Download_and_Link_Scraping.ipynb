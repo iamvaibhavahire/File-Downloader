{
  "nbformat": 4,
  "nbformat_minor": 0,
  "metadata": {
    "colab": {
      "provenance": [],
      "authorship_tag": "ABX9TyPCChtKHLFxUv/qSIbbjcTn",
      "include_colab_link": true
    },
    "kernelspec": {
      "name": "python3",
      "display_name": "Python 3"
    },
    "language_info": {
      "name": "python"
    }
  },
  "cells": [
    {
      "cell_type": "markdown",
      "metadata": {
        "id": "view-in-github",
        "colab_type": "text"
      },
      "source": [
        "<a href=\"https://colab.research.google.com/github/iamvaibhavahire/File-Downloader/blob/main/File_Download_and_Link_Scraping.ipynb\" target=\"_parent\"><img src=\"https://colab.research.google.com/assets/colab-badge.svg\" alt=\"Open In Colab\"/></a>"
      ]
    },
    {
      "cell_type": "markdown",
      "source": [
        "Google Mount"
      ],
      "metadata": {
        "id": "n9HuMIE2_-gv"
      }
    },
    {
      "cell_type": "code",
      "execution_count": null,
      "metadata": {
        "id": "dTwPygZ5_b1s"
      },
      "outputs": [],
      "source": [
        "from google.colab import drive\n",
        "drive.mount('/content/drive')"
      ]
    },
    {
      "cell_type": "markdown",
      "source": [
        "Link Scraping and Download v1"
      ],
      "metadata": {
        "id": "NCryV-6BAUzk"
      }
    },
    {
      "cell_type": "code",
      "source": [
        "\n",
        "!pip install beautifulsoup4 requests\n",
        "\n",
        "import requests\n",
        "from bs4 import BeautifulSoup\n",
        "\n",
        "# Function to extract the download link\n",
        "def extract_download_link(url):\n",
        "    response = requests.get(url)\n",
        "    soup = BeautifulSoup(response.text, \"html.parser\")\n",
        "\n",
        "    # Find the download link\n",
        "    download_link = soup.select_one(\".download-button\")[\"href\"]\n",
        "    return download_link\n",
        "\n",
        "# Function to download the file using wget\n",
        "def download_file(download_link, destination_path):\n",
        "    !wget -P {destination_path} {download_link}\n",
        "\n",
        "# Get user input for the URL\n",
        "url = input(\"Enter the URL: \")\n",
        "\n",
        "# Extract the download link\n",
        "download_link = extract_download_link(url)\n",
        "\n",
        "# Specify the destination path in Google Drive\n",
        "destination_path = \"/content/drive/MyDrive/Github/Download/Linkv1\"\n",
        "\n",
        "# Download the file using wget\n",
        "download_file(download_link, destination_path)"
      ],
      "metadata": {
        "id": "qdvV_f1lAOPM"
      },
      "execution_count": null,
      "outputs": []
    },
    {
      "cell_type": "markdown",
      "source": [
        "File Download v2"
      ],
      "metadata": {
        "id": "eKecwzG7A1q_"
      }
    },
    {
      "cell_type": "code",
      "source": [
        "import requests\n",
        "\n",
        "url = input(\"Enter the URL: \")\n",
        "destination = \"/content/drive/MyDrive/Github/Download/Linkv2\"\n",
        "\n",
        "response = requests.get(url)\n",
        "with open(destination, 'wb') as file:\n",
        "    file.write(response.content)"
      ],
      "metadata": {
        "id": "JCL5NrHkAv3w"
      },
      "execution_count": null,
      "outputs": []
    }
  ]
}