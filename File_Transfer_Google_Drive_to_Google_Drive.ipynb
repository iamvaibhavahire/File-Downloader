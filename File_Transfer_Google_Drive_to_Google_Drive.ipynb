{
  "nbformat": 4,
  "nbformat_minor": 0,
  "metadata": {
    "colab": {
      "provenance": [],
      "authorship_tag": "ABX9TyPp93OWfnrLZvrfC5egldOy",
      "include_colab_link": true
    },
    "kernelspec": {
      "name": "python3",
      "display_name": "Python 3"
    },
    "language_info": {
      "name": "python"
    }
  },
  "cells": [
    {
      "cell_type": "markdown",
      "metadata": {
        "id": "view-in-github",
        "colab_type": "text"
      },
      "source": [
        "<a href=\"https://colab.research.google.com/github/iamvaibhavahire/File-Downloader/blob/main/File_Transfer_Google_Drive_to_Google_Drive.ipynb\" target=\"_parent\"><img src=\"https://colab.research.google.com/assets/colab-badge.svg\" alt=\"Open In Colab\"/></a>"
      ]
    },
    {
      "cell_type": "code",
      "execution_count": null,
      "metadata": {
        "id": "PxqBcX06TYDY"
      },
      "outputs": [],
      "source": [
        "!pip install gdown\n",
        "\n",
        "import os\n",
        "import gdown\n",
        "from google.colab import drive\n",
        "\n",
        "# Mount the source and destination Google Drives\n",
        "drive.mount('/content/src_drive')  # Mount source drive\n",
        "drive.mount('/content/dst_drive')  # Mount destination drive\n",
        "\n",
        "# Set source and destination paths\n",
        "src_path = '/content/src_drive/MyDrive/Path/To/Source'  # Source path\n",
        "dst_path = '/content/dst_drive/MyDrive/Path/To/Destination'  # Destination path\n",
        "\n",
        "# Create the destination directory if it doesn't exist\n",
        "os.makedirs(dst_path, exist_ok=True)\n",
        "\n",
        "# Get the list of files in the source directory\n",
        "file_list = os.listdir(src_path)\n",
        "\n",
        "# Loop through each file in the source directory\n",
        "for file_name in file_list:\n",
        "    # Construct the source and destination file paths\n",
        "    src_file_path = os.path.join(src_path, file_name)\n",
        "    dst_file_path = os.path.join(dst_path, file_name)\n",
        "\n",
        "    # Download the file from the source drive\n",
        "    gdown.download(f\"file://{src_file_path}\", output=dst_file_path, quiet=False)"
      ]
    }
  ]
}