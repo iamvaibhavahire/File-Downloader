{
  "nbformat": 4,
  "nbformat_minor": 0,
  "metadata": {
    "colab": {
      "provenance": [],
      "authorship_tag": "ABX9TyOb4ftq057sKoeY8h190Yad",
      "include_colab_link": true
    },
    "kernelspec": {
      "name": "python3",
      "display_name": "Python 3"
    },
    "language_info": {
      "name": "python"
    }
  },
  "cells": [
    {
      "cell_type": "markdown",
      "metadata": {
        "id": "view-in-github",
        "colab_type": "text"
      },
      "source": [
        "<a href=\"https://colab.research.google.com/github/iamvaibhavahire/File-Downloader/blob/main/Download_Youtube_Video.ipynb\" target=\"_parent\"><img src=\"https://colab.research.google.com/assets/colab-badge.svg\" alt=\"Open In Colab\"/></a>"
      ]
    },
    {
      "cell_type": "code",
      "source": [
        "from google.colab import drive\n",
        "drive.mount('/content/drive')"
      ],
      "metadata": {
        "id": "fFVZwAtaOxYD"
      },
      "execution_count": null,
      "outputs": []
    },
    {
      "cell_type": "code",
      "source": [
        "!pip install pytube"
      ],
      "metadata": {
        "id": "QzwszqivMdAR"
      },
      "execution_count": null,
      "outputs": []
    },
    {
      "cell_type": "code",
      "source": [
        "from pytube import YouTube\n",
        "from tqdm import tqdm\n",
        "import os"
      ],
      "metadata": {
        "id": "S3QneWgQMhiO"
      },
      "execution_count": null,
      "outputs": []
    },
    {
      "cell_type": "code",
      "source": [
        "link = \"\"  # Insert your YouTube video link here\n",
        "destination_path = \"/content/drive/MyDrive/YouTube_video\"  # Set your desired destination path here\n",
        "os.makedirs(destination_path, exist_ok=True)"
      ],
      "metadata": {
        "id": "ERofjY1BMiql"
      },
      "execution_count": null,
      "outputs": []
    },
    {
      "cell_type": "code",
      "source": [
        "youtube = YouTube(link)\n",
        "video = youtube.streams.get_highest_resolution()\n",
        "\n",
        "# Extract the title of the video\n",
        "video_title = video.title\n",
        "\n",
        "# Clean the title to remove any invalid characters for filenames\n",
        "cleaned_title = \"\".join(c if c.isalnum() else \"_\" for c in video_title)\n",
        "\n",
        "# Update the filename\n",
        "filename = f\"{cleaned_title}.mp4\"\n",
        "file_path = os.path.join(destination_path, filename)\n",
        "\n",
        "print(\"Downloading...\")\n",
        "video.download(output_path=destination_path, filename=filename)\n",
        "\n",
        "# Get the total file size\n",
        "total_size = video.filesize\n",
        "\n",
        "# Create a progress bar\n",
        "progress_bar = tqdm(total=total_size, unit='bytes', unit_scale=True)\n",
        "\n",
        "# Open the downloaded file in chunks\n",
        "with open(file_path, \"rb\") as file:\n",
        "    chunk_size = 1024  # Set your preferred chunk size\n",
        "    while True:\n",
        "        chunk = file.read(chunk_size)\n",
        "        if not chunk:\n",
        "            break\n",
        "\n",
        "        # Update the progress bar with the size of each chunk\n",
        "        progress_bar.update(len(chunk))\n",
        "\n",
        "# Close the progress bar\n",
        "progress_bar.close()\n",
        "\n",
        "print(\"Download completed successfully!\")"
      ],
      "metadata": {
        "id": "6m0etAPtMlIN"
      },
      "execution_count": null,
      "outputs": []
    },
    {
      "cell_type": "markdown",
      "source": [
        "PlayList"
      ],
      "metadata": {
        "id": "OBem_AKKMwR4"
      }
    },
    {
      "cell_type": "code",
      "source": [
        "from pytube import Playlist, YouTube\n",
        "import os\n",
        "\n",
        "# Define the playlist URL\n",
        "playlist_url = \"\"  # Insert your YouTube playlist URL here\n",
        "\n",
        "# Set the destination path\n",
        "destination_path = \"/content/drive/MyDrive/YouTube_PlayList\"  # Set your desired destination path here\n",
        "os.makedirs(destination_path, exist_ok=True)\n",
        "\n",
        "# Create a Playlist object\n",
        "playlist = Playlist(playlist_url)\n",
        "\n",
        "# Iterate over each video in the playlist\n",
        "for video_url in playlist.video_urls:\n",
        "    try:\n",
        "        # Create a YouTube object for the video\n",
        "        youtube = YouTube(video_url)\n",
        "\n",
        "        # Get the best available video stream\n",
        "        video = youtube.streams.get_highest_resolution()\n",
        "\n",
        "        # Extract the title of the video\n",
        "        video_title = video.title\n",
        "\n",
        "        # Clean the title to remove any invalid characters for filenames\n",
        "        cleaned_title = \"\".join(c if c.isalnum() else \"_\" for c in video_title)\n",
        "\n",
        "        # Update the filename\n",
        "        filename = f\"{cleaned_title}.mp4\"\n",
        "        file_path = os.path.join(destination_path, filename)\n",
        "\n",
        "        # Download the video\n",
        "        print(f\"Downloading: {video_title}\")\n",
        "        video.download(output_path=destination_path, filename=filename)\n",
        "        print(\"Download completed successfully!\")\n",
        "    except Exception as e:\n",
        "        print(f\"Error downloading: {video_url}\")\n",
        "        print(str(e))"
      ],
      "metadata": {
        "id": "8z62xXmqMzOd"
      },
      "execution_count": null,
      "outputs": []
    }
  ]
}