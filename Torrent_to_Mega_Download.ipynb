{
  "nbformat": 4,
  "nbformat_minor": 0,
  "metadata": {
    "colab": {
      "provenance": [],
      "authorship_tag": "ABX9TyMcLpuP/EHzrAVmV3t2iwWW",
      "include_colab_link": true
    },
    "kernelspec": {
      "name": "python3",
      "display_name": "Python 3"
    },
    "language_info": {
      "name": "python"
    }
  },
  "cells": [
    {
      "cell_type": "markdown",
      "metadata": {
        "id": "view-in-github",
        "colab_type": "text"
      },
      "source": [
        "<a href=\"https://colab.research.google.com/github/iamvaibhavahire/Torrent-Downloader/blob/main/Torrent_to_Mega_Download.ipynb\" target=\"_parent\"><img src=\"https://colab.research.google.com/assets/colab-badge.svg\" alt=\"Open In Colab\"/></a>"
      ]
    },
    {
      "cell_type": "markdown",
      "source": [
        "# **Installation mega.py library**"
      ],
      "metadata": {
        "id": "3x9F7TLIQ5h_"
      }
    },
    {
      "cell_type": "code",
      "execution_count": null,
      "metadata": {
        "id": "KovZfZN1Qtcd"
      },
      "outputs": [],
      "source": [
        "!pip install mega.py"
      ]
    },
    {
      "cell_type": "markdown",
      "source": [
        "# **Authenticate with your Mega account**"
      ],
      "metadata": {
        "id": "PaWQUUy7RSPo"
      }
    },
    {
      "cell_type": "code",
      "source": [
        "from mega import Mega\n",
        "\n",
        "mega_email = input(\"Enter your Mega email: \")\n",
        "mega_password = input(\"Enter your Mega password: \")\n",
        "\n",
        "mega = Mega()\n",
        "mega_client = mega.login(mega_email, mega_password)"
      ],
      "metadata": {
        "id": "YL_lv4QVRWDu"
      },
      "execution_count": null,
      "outputs": []
    },
    {
      "cell_type": "markdown",
      "source": [
        "# **Prompt user for the magnet link**"
      ],
      "metadata": {
        "id": "w_VjFYM9Rh8Q"
      }
    },
    {
      "cell_type": "code",
      "source": [
        "magnet_link = input(\"Enter the magnet link: \")"
      ],
      "metadata": {
        "id": "e47Bmo4_Rp6m"
      },
      "execution_count": null,
      "outputs": []
    },
    {
      "cell_type": "markdown",
      "source": [
        "# **Download the torrent file using libtorrent**"
      ],
      "metadata": {
        "id": "uB8uXP--RsR9"
      }
    },
    {
      "cell_type": "code",
      "source": [
        "import libtorrent as lt\n",
        "\n",
        "ses = lt.session()\n",
        "params = {\n",
        "    'save_path': \"/content/Cloud drive/Torrent\",\n",
        "    'storage_mode': lt.storage_mode_t(2),\n",
        "} # save_path = \"/content/drive/MyDrive/Torrent/\"\n",
        "handle = lt.add_magnet_uri(ses, magnet_link, params)\n",
        "ses.start_dht()\n",
        "print('Downloading Metadata...')\n",
        "while not handle.has_metadata():\n",
        "    time.sleep(1)\n",
        "print('Got Metadata, Starting Torrent Download...')\n",
        "\n",
        "print(\"Starting\", handle.name())\n",
        "\n",
        "while handle.status().state != lt.torrent_status.seeding:\n",
        "    s = handle.status()\n",
        "    state_str = ['queued', 'checking', 'downloading metadata',\n",
        "                 'downloading', 'finished', 'seeding', 'allocating']\n",
        "    print('%.2f%% complete (down: %.1f kB/s up: %.1f kB/s peers: %d) %s ' % \\\n",
        "          (s.progress * 100, s.download_rate / 1000, s.upload_rate / 1000, \\\n",
        "           s.num_peers, state_str[s.state]))\n",
        "    time.sleep(1)\n",
        "\n",
        "print(handle.name(), \"COMPLETE\")"
      ],
      "metadata": {
        "id": "VLjKsFJaRwzR"
      },
      "execution_count": null,
      "outputs": []
    }
  ]
}