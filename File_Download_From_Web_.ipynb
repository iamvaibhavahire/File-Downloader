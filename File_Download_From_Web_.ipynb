{
  "nbformat": 4,
  "nbformat_minor": 0,
  "metadata": {
    "colab": {
      "provenance": [],
      "authorship_tag": "ABX9TyPqy8imdJplS3IJNLfE5YK1",
      "include_colab_link": true
    },
    "kernelspec": {
      "name": "python3",
      "display_name": "Python 3"
    },
    "language_info": {
      "name": "python"
    }
  },
  "cells": [
    {
      "cell_type": "markdown",
      "metadata": {
        "id": "view-in-github",
        "colab_type": "text"
      },
      "source": [
        "<a href=\"https://colab.research.google.com/github/iamvaibhavahire/File-Downloader/blob/main/File_Download_From_Web_.ipynb\" target=\"_parent\"><img src=\"https://colab.research.google.com/assets/colab-badge.svg\" alt=\"Open In Colab\"/></a>"
      ]
    },
    {
      "cell_type": "markdown",
      "source": [
        "# **Google Mount**\n",
        "```\n",
        "This code will prompt you to authenticate and authorize Google Colab to access your Google Drive.\n",
        "Follow the instructions provided, copy the authorization code, and paste it into the cell to\n",
        "mount your Google Drive.\n",
        "```\n",
        "\n"
      ],
      "metadata": {
        "id": "n9HuMIE2_-gv"
      }
    },
    {
      "cell_type": "code",
      "execution_count": null,
      "metadata": {
        "colab": {
          "base_uri": "https://localhost:8080/"
        },
        "id": "dTwPygZ5_b1s",
        "outputId": "921ce36f-9559-4093-a5ee-97f517cfc46f"
      },
      "outputs": [
        {
          "output_type": "stream",
          "name": "stdout",
          "text": [
            "Mounted at /content/drive\n"
          ]
        }
      ],
      "source": [
        "from google.colab import drive\n",
        "drive.mount('/content/drive')"
      ]
    },
    {
      "cell_type": "markdown",
      "source": [
        "## **File Download v0**\n",
        "*Replace /content/drive/MyDrive/Path/To/Save with the path in your Google Drive where you want to save the file. You can change the URL to the location of the file you want to download.*\n",
        "\n",
        "\n",
        "\n",
        "\n",
        "```\n",
        "Download a file: In the next cell, use the wget command to download a file.\n",
        "For example, let's say you want to download a file named \"example.txt\"\n",
        "from a specific URL. Run the following code:\n",
        "```\n",
        "\n"
      ],
      "metadata": {
        "id": "cOrFjdvQpmfj"
      }
    },
    {
      "cell_type": "code",
      "source": [
        "!wget -P /content/drive/MyDrive/Path/To/Save https://example.com/example.txt"
      ],
      "metadata": {
        "id": "KurnpxoJplYX"
      },
      "execution_count": null,
      "outputs": []
    },
    {
      "cell_type": "markdown",
      "source": [
        "# **File Download v1**"
      ],
      "metadata": {
        "id": "NCryV-6BAUzk"
      }
    },
    {
      "cell_type": "code",
      "source": [
        "import os\n",
        "\n",
        "url = input(\"Enter the URL: \")\n",
        "destination_path = \"/content/drive/MyDrive/Path/To/Save\"\n",
        "\n",
        "# Create the destination directory if it doesn't exist\n",
        "os.makedirs(destination_path, exist_ok=True)\n",
        "\n",
        "# Download the file using wget\n",
        "!wget -P \"{destination_path}\" \"{url}\""
      ],
      "metadata": {
        "id": "hgsd1LC2o5QF"
      },
      "execution_count": null,
      "outputs": []
    },
    {
      "cell_type": "markdown",
      "source": [
        "# **File Download v2**"
      ],
      "metadata": {
        "id": "eKecwzG7A1q_"
      }
    },
    {
      "cell_type": "code",
      "source": [
        "import requests\n",
        "\n",
        "url = input(\"Enter the URL: \")\n",
        "destination = \"/content/drive/MyDrive/Github/Download/Linkv2\"\n",
        "\n",
        "response = requests.get(url)\n",
        "with open(destination, 'wb') as file:\n",
        "    file.write(response.content)"
      ],
      "metadata": {
        "id": "JCL5NrHkAv3w"
      },
      "execution_count": null,
      "outputs": []
    },
    {
      "cell_type": "markdown",
      "source": [
        "# **File Download v3**"
      ],
      "metadata": {
        "id": "32JaSTmTpIB7"
      }
    },
    {
      "cell_type": "code",
      "source": [
        "import os\n",
        "\n",
        "destination_path = \"/content/drive/MyDrive/Path/To/Save\"\n",
        "\n",
        "# Create the destination directory if it doesn't exist\n",
        "os.makedirs(destination_path, exist_ok=True)\n",
        "\n",
        "# List of URLs to download\n",
        "urls = [\n",
        "    \"https://example.com/example1.txt\",\n",
        "    \"https://example.com/example2.txt\",\n",
        "    \"https://example.com/example3.txt\",\n",
        "    \"https://example.com/example4.txt\",\n",
        "    \"https://example.com/example5.txt\",\n",
        "    \"https://example.com/example6.txt\",\n",
        "    \"https://example.com/example7.txt\"\n",
        "]\n",
        "\n",
        "# Download files using wget\n",
        "for url in urls:\n",
        "    !wget -P \"{destination_path}\" \"{url}\""
      ],
      "metadata": {
        "id": "qdvV_f1lAOPM"
      },
      "execution_count": null,
      "outputs": []
    }
  ]
}